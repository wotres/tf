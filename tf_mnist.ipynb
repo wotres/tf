{
 "cells": [
  {
   "cell_type": "code",
   "execution_count": 2,
   "metadata": {},
   "outputs": [
    {
     "name": "stdout",
     "output_type": "stream",
     "text": [
      "WARNING:tensorflow:From <ipython-input-2-e4fbff9a5506>:7: read_data_sets (from tensorflow.contrib.learn.python.learn.datasets.mnist) is deprecated and will be removed in a future version.\n",
      "Instructions for updating:\n",
      "Please use alternatives such as official/mnist/dataset.py from tensorflow/models.\n",
      "WARNING:tensorflow:From /Users/actmember/anaconda3/lib/python3.6/site-packages/tensorflow/contrib/learn/python/learn/datasets/mnist.py:260: maybe_download (from tensorflow.contrib.learn.python.learn.datasets.base) is deprecated and will be removed in a future version.\n",
      "Instructions for updating:\n",
      "Please write your own downloading logic.\n",
      "WARNING:tensorflow:From /Users/actmember/anaconda3/lib/python3.6/site-packages/tensorflow/contrib/learn/python/learn/datasets/mnist.py:262: extract_images (from tensorflow.contrib.learn.python.learn.datasets.mnist) is deprecated and will be removed in a future version.\n",
      "Instructions for updating:\n",
      "Please use tf.data to implement this functionality.\n",
      "Extracting MNIST_data/train-images-idx3-ubyte.gz\n",
      "WARNING:tensorflow:From /Users/actmember/anaconda3/lib/python3.6/site-packages/tensorflow/contrib/learn/python/learn/datasets/mnist.py:267: extract_labels (from tensorflow.contrib.learn.python.learn.datasets.mnist) is deprecated and will be removed in a future version.\n",
      "Instructions for updating:\n",
      "Please use tf.data to implement this functionality.\n",
      "Extracting MNIST_data/train-labels-idx1-ubyte.gz\n",
      "WARNING:tensorflow:From /Users/actmember/anaconda3/lib/python3.6/site-packages/tensorflow/contrib/learn/python/learn/datasets/mnist.py:110: dense_to_one_hot (from tensorflow.contrib.learn.python.learn.datasets.mnist) is deprecated and will be removed in a future version.\n",
      "Instructions for updating:\n",
      "Please use tf.one_hot on tensors.\n",
      "Extracting MNIST_data/t10k-images-idx3-ubyte.gz\n",
      "Extracting MNIST_data/t10k-labels-idx1-ubyte.gz\n",
      "WARNING:tensorflow:From /Users/actmember/anaconda3/lib/python3.6/site-packages/tensorflow/contrib/learn/python/learn/datasets/mnist.py:290: DataSet.__init__ (from tensorflow.contrib.learn.python.learn.datasets.mnist) is deprecated and will be removed in a future version.\n",
      "Instructions for updating:\n",
      "Please use alternatives such as official/mnist/dataset.py from tensorflow/models.\n"
     ]
    }
   ],
   "source": [
    "# mnist 자료 불러옴\n",
    "# 55000개의 학습 데이터 mnist.train\n",
    "# 10000개의 테스트 데이터 mnist.text\n",
    "# 5000개의 검증 데이터 mnist.validation\n",
    "\n",
    "from tensorflow.examples.tutorials.mnist import input_data\n",
    "mnist = input_data.read_data_sets(\"MNIST_data/\", one_hot=True)\n",
    "# mnist.train.images 라는 숫자 이미지데이터와 mnist.train.labels 라는 숫자로 적혀진 라벨데이터가 있음 \n",
    "# 사이즈는 28*28\n",
    "# mnsit.train.images 데이터는 [55000, 784] gudxofmf rkwls xpstj\n",
    "# 첫번쨰 차원은 이미지개수, 두번째는 이미지의 픽셀 (28*28)"
   ]
  },
  {
   "cell_type": "code",
   "execution_count": 13,
   "metadata": {},
   "outputs": [
    {
     "name": "stdout",
     "output_type": "stream",
     "text": [
      "[ 0.  0.  1.  0.  0.  0.  0.  0.  0.  0.]\n",
      "0.9174\n",
      "Tensor(\"strided_slice:0\", shape=(10,), dtype=float32)\n"
     ]
    }
   ],
   "source": [
    "import tensorflow as tf\n",
    "## 세팅\n",
    "# placehodler에 값을 입력할 자리를 만듦 None은 어떤 길이든 들어올수 있다 의미, \n",
    "# 즉, 2차원 텐서를 만들것이고 (, 784)차원의 벡터를 넣겠다.\n",
    "x = tf.placeholder(tf.float32, [None, 784])\n",
    "# 일단 변수의 형태를 만든 뒤 0을 입력해 놓음\n",
    "W = tf.Variable(tf.zeros([784, 10]))\n",
    "b = tf.Variable(tf.zeros([10]))\n",
    "# 소프트 맥스를 이용\n",
    "y = tf.nn.softmax(tf.matmul(x, W) + b)\n",
    "\n",
    "## 학습\n",
    "# 모델의 손실을 정의하기 위해 크로스 엔트로피라는 것을 사용\n",
    "# 올바른 답을 넣기위한 placeholder를 추가\n",
    "y_ = tf.placeholder(tf.float32, [None, 10])\n",
    "# tf.log(y) 는 각원소의 로그 값을 계산\n",
    "# tf.reduce_sum으로 y의 2번째 차원의 원소들을 합함 (reduction_indices=[1])\n",
    "# tf.reduce_mean 으로 배치의 모든 예시에 대한 평균을 계산\n",
    "cross_entropy = tf.reduce_mean(-tf.reduce_sum(y_*tf.log(y), reduction_indices=[1]))\n",
    "\n",
    "# 원래 는 위와 같이 계산해야하지만 수학적으로 불안정 \n",
    "# => tf.nn.softmax_cross_entropy_with_logits 을 적용\n",
    "# 학습비율 0.5 를 적용하여 경사 하강법을 적용하여 크로스 엔트로피를 최소화 하도록 지시 / 역전파 여기서 일어남\n",
    "train_step = tf.train.GradientDescentOptimizer(0.5).minimize(cross_entropy)\n",
    "\n",
    "# 변수 초기화\n",
    "init = tf.global_variables_initializer()\n",
    "sess = tf.Session()\n",
    "sess.run(init)\n",
    "\n",
    "for i in range(1000):\n",
    "    # 무작위로 선택된 100개의 데이터로 구성된 배치(batch)를 가져옴\n",
    "    # 이처럼 무작위 데이터의 작은 배치를 사용하는 방법을 확률적 학습(stochastic training)\n",
    "    batch_xs, batch_ys = mnist.train.next_batch(100)\n",
    "    sess.run(train_step, feed_dict={x: batch_xs, y_: batch_ys})\n",
    "\n",
    "# 모델 평가\n",
    "# tf.argmax는 텐서 안에서 가장 큰 값 찾는 함수\n",
    "# tf.argmax(y, 1) 은 우리 모델이 생각하기에 가장 적합한 라벨 , \n",
    "# tf.argmax(y_, 1) 은 실제 라벨\n",
    "# tf.equal 을 사용하여 우리의 예측이 맞았는지 확인\n",
    "correct_prediction = tf.equal(tf.argmax(y,1), tf.argmax(y_,1))\n",
    "# 부울 값을 부동소수점 값을 변환한 후 평균을 계산\n",
    "accuracy = tf.reduce_mean(tf.cast(correct_prediction, tf.float32))\n",
    "# print(mnist.test.images[1])\n",
    "print(mnist.test.labels[1])\n",
    "# 정답 셋\n",
    "print(sess.run(accuracy, feed_dict={x:mnist.test.images, y_: mnist.test.labels}))\n",
    "print(y[1])"
   ]
  },
  {
   "cell_type": "code",
   "execution_count": null,
   "metadata": {
    "collapsed": true
   },
   "outputs": [],
   "source": []
  }
 ],
 "metadata": {
  "kernelspec": {
   "display_name": "Python 3",
   "language": "python",
   "name": "python3"
  },
  "language_info": {
   "codemirror_mode": {
    "name": "ipython",
    "version": 3
   },
   "file_extension": ".py",
   "mimetype": "text/x-python",
   "name": "python",
   "nbconvert_exporter": "python",
   "pygments_lexer": "ipython3",
   "version": "3.6.3"
  }
 },
 "nbformat": 4,
 "nbformat_minor": 2
}
